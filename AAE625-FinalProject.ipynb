{
 "cells": [
  {
   "cell_type": "markdown",
   "metadata": {},
   "source": [
    "AAE 625 Final Project \n",
    "Assessing the impacts of financial variables to the exit of Wisconsin Dairy Farms\n",
    "Cole Hicken\n",
    "5/3/2024"
   ]
  },
  {
   "cell_type": "markdown",
   "metadata": {},
   "source": [
    "Introduction\n",
    "\t\n",
    "There are many different ways that one might go about handling their finances. But, when looking at the agriculture industry, almost one thing is certain for every firm involved, and that’s the necessity for financial support via outside funding to maintain proper cash flows at all times of the year. Dairy farms are a little different from other farming entities (mainly cash crop) in the sense that they can see a continuous stream of revenue year-round via the production of milk. That being said, the large capital investment needed to start and maintain a production dairy farm is still extremely high. As margins in the industry continue to get tighter this funding can sometimes be the thing holding a farm afloat. But, at what point is outside funding reliance too much for one to handle? Utilizing firm level data that analyzes every aspect of the dairy farm we’re able to get a better picture as to what financial warnings one might find with a failing/sinking farm. This data shows when farms directly exit the industry and this can be used as a data point to connect other financial evaluation tools to hone in on an effective analysis tool for lenders to see potential warning signs and adjust a business plan accordingly to meet debt obligations and maintain ownership in the farm. \n"
   ]
  },
  {
   "cell_type": "markdown",
   "metadata": {},
   "source": [
    "Research Question\n",
    "What financial factors develop the most accurate depiction of actual financial stability and give warning signs towards industry exit within dairy farms? \n",
    "\n",
    "Hypothesis \n",
    "Financial Leverage factors will predict farm exit with the most accuracy. "
   ]
  },
  {
   "cell_type": "markdown",
   "metadata": {},
   "source": [
    "Data Description\n",
    "\n",
    "The dataset used in this study was provided from a private study of the exit of farms from the dairy industry within the state of Wisconsin. The main focal point of the data is on the financial related ratios that could impact exit. Specifically, this model will look at the debt coverage ratio, rate of return on equity including asset appreciation values, the total repayment capacity of a firm, and an asset to current liability measure. The debt coverage ratio looks at the ability of the firm to pay current debt obligations while looking at current cash flows. Return on equity is measuring the profitability that a firm has in the industry. Repayment capacity is the total amount that one would be able to repay. Finally, the asset/current liability measure is a solvency ratio that looks at total collateral available to pay down current liabilities needed. "
   ]
  },
  {
   "cell_type": "code",
   "execution_count": 9,
   "metadata": {},
   "outputs": [
    {
     "name": "stdout",
     "output_type": "stream",
     "text": [
      "Data has been successfully exported to Excel.\n"
     ]
    }
   ],
   "source": [
    "#Import Libraries\n",
    "import pandas as pd\n",
    "from scipy import stats\n",
    "import statsmodels.api as sm\n",
    "\n",
    "df = pd.read_stata (r'/Users/chicken/Downloads/DairyExitProcessed_5.dta')\n",
    "excel_file_path = '/Users/chicken/Downloads/DairyExitProcessed_5.xlsx'\n",
    "df.to_excel(excel_file_path, index=False)\n",
    "\n",
    "#Transferring data into excel format for easier analysis potential\n",
    "print(\"Data has been successfully exported to Excel.\")"
   ]
  },
  {
   "cell_type": "markdown",
   "metadata": {},
   "source": [
    "One thing I noticed in the dataset was a category that looked at the age of firm owners. One thing that is constantly discussed in farm media is the growing age of the workers and how this will impact moving forward. So, I wanted to look into the impacts that age has on overall exit from the farming industry. "
   ]
  },
  {
   "cell_type": "code",
   "execution_count": 4,
   "metadata": {},
   "outputs": [
    {
     "name": "stdout",
     "output_type": "stream",
     "text": [
      "Average of avg_age when exitFarm = 0: 49.989075\n",
      "Average of avg_age when exitFarm = 1: 50.194305\n"
     ]
    }
   ],
   "source": [
    "#Analyze the effect of age on exit\n",
    "filtered_df = df[df['exitFarm'] == 0]\n",
    "average_avg_age = filtered_df['avg_age'].mean()\n",
    "print(\"Average of avg_age when exitFarm = 0:\", average_avg_age)\n",
    "filtered_df = df[df['exitFarm'] == 1]\n",
    "average_avg_age = filtered_df['avg_age'].mean()\n",
    "print(\"Average of avg_age when exitFarm = 1:\", average_avg_age)"
   ]
  },
  {
   "cell_type": "code",
   "execution_count": 7,
   "metadata": {},
   "outputs": [
    {
     "name": "stdout",
     "output_type": "stream",
     "text": [
      "Z-Score: -0.3419550128543583\n",
      "P-Value: 0.7324331991360356\n"
     ]
    }
   ],
   "source": [
    "from scipy import stats\n",
    "df_exit0 = df[df['exitFarm'] == 0]\n",
    "df_exit1 = df[df['exitFarm'] == 1]\n",
    "avg_age_exit0 = df_exit0['avg_age'].mean()\n",
    "avg_age_exit1 = df_exit1['avg_age'].mean()\n",
    "std_exit0 = df_exit0['avg_age'].std()\n",
    "std_exit1 = df_exit1['avg_age'].std()\n",
    "n_exit0 = len(df_exit0)\n",
    "n_exit1 = len(df_exit1)\n",
    "z_score, p_value = stats.ttest_ind_from_stats(avg_age_exit0, std_exit0, n_exit0, avg_age_exit1, std_exit1, n_exit1)\n",
    "print(\"Z-Score:\", z_score)\n",
    "print(\"P-Value:\", p_value)"
   ]
  },
  {
   "cell_type": "markdown",
   "metadata": {},
   "source": [
    "The high p-value indicates that there is not a significant difference between the two values indicating that age does not have a significant effect on the exit of farms from the industry. "
   ]
  },
  {
   "cell_type": "markdown",
   "metadata": {},
   "source": [
    "A logistic regression model was applied to try and determine individual variable impacts on the firm's exit. This was chosen as it allows an analyst an easier way to single out variables and compare how they might impact the exit of firms. "
   ]
  },
  {
   "cell_type": "code",
   "execution_count": 12,
   "metadata": {},
   "outputs": [
    {
     "name": "stdout",
     "output_type": "stream",
     "text": [
      "Optimization terminated successfully.\n",
      "         Current function value: 0.379825\n",
      "         Iterations 7\n",
      "                           Logit Regression Results                           \n",
      "==============================================================================\n",
      "Dep. Variable:               exitFarm   No. Observations:                 1485\n",
      "Model:                          Logit   Df Residuals:                     1480\n",
      "Method:                           MLE   Df Model:                            4\n",
      "Date:                Thu, 09 May 2024   Pseudo R-squ.:                 0.03581\n",
      "Time:                        12:03:13   Log-Likelihood:                -564.04\n",
      "converged:                       True   LL-Null:                       -584.99\n",
      "Covariance Type:            nonrobust   LLR p-value:                 1.750e-08\n",
      "=======================================================================================\n",
      "                          coef    std err          z      P>|z|      [0.025      0.975]\n",
      "---------------------------------------------------------------------------------------\n",
      "const                  -1.5636      0.102    -15.350      0.000      -1.763      -1.364\n",
      "DEBTCOVRAT              0.0077      0.009      0.891      0.373      -0.009       0.025\n",
      "RATEQ_WITH              0.0135      0.007      2.061      0.039       0.001       0.026\n",
      "REPAYCAPAC           -1.51e-06   3.04e-07     -4.965      0.000   -2.11e-06   -9.14e-07\n",
      "ASSET_CURRLIB_RATIO    -0.0013      0.001     -1.142      0.253      -0.003       0.001\n",
      "=======================================================================================\n"
     ]
    }
   ],
   "source": [
    "#Create a ratio looking at total assets and current liabilities\n",
    "df['ASSET_CURRLIB_RATIO'] = df['ASSET_END'] / df['CURRLIBEND']\n",
    "\n",
    "#Perform Logistic model to determine coefficients\n",
    "df = df[['exitFarm', 'DEBTCOVRAT', 'RATEQ_WITH', 'REPAYCAPAC', 'CURRLIBEND', 'ASSET_END', 'ASSET_CURRLIB_RATIO']]\n",
    "df.fillna(df.median(), inplace=True)\n",
    "X = df[['DEBTCOVRAT', 'RATEQ_WITH', 'REPAYCAPAC', 'ASSET_CURRLIB_RATIO']]\n",
    "y = df['exitFarm']\n",
    "\n",
    "X = sm.add_constant(X)\n",
    "\n",
    "logit_model = sm.Logit(y, X)\n",
    "result = logit_model.fit()\n",
    "\n",
    "print(result.summary())"
   ]
  },
  {
   "cell_type": "markdown",
   "metadata": {},
   "source": [
    "Results\n",
    "\n",
    "Looking at the results from the age analysis and the logistical regression model a few things stick out in particular. First, while age may be increasing industry wide and likely is an overall issue, this actually does not significantly impact the exit of farms. Which, likely is pointing more directly to other measures more specifically financial related issues. Looking at the logistic results it's apparant that ratios looking specifically in firm's ability to pay, as well as the profitability of the farm play the largest role in predicting when a farm may exit. With decreases in these measures firms are more likely to face financial hardship and will be more risky for lenders and investors alike to provide them with funding. And without that crucial funding necessary to weather any financial storms (weather, price dips, drought, disease, etc.) many of these farms will end up having to leave the industry in the end. "
   ]
  },
  {
   "cell_type": "markdown",
   "metadata": {},
   "source": [
    "Conclusion\n",
    "\n",
    "Overall, much is to learned from the dataset, and with some more specific data points looking at all facets of the farms one will be able to get an even clearer picture on how specific ratios effect farm exit numbers. Moving forward, policymakersncan support farms quicker when focusing on ways to create stable pricing markets that will create more stability to a rather volatile pricing market. This will likely create more predictable profitability ratios that will be able to be addressed sooner by lenders and other members of the industry to try and cut back on the number of exits seen in the dairy industry. "
   ]
  }
 ],
 "metadata": {
  "kernelspec": {
   "display_name": "base",
   "language": "python",
   "name": "python3"
  },
  "language_info": {
   "codemirror_mode": {
    "name": "ipython",
    "version": 3
   },
   "file_extension": ".py",
   "mimetype": "text/x-python",
   "name": "python",
   "nbconvert_exporter": "python",
   "pygments_lexer": "ipython3",
   "version": "3.11.5"
  }
 },
 "nbformat": 4,
 "nbformat_minor": 2
}
